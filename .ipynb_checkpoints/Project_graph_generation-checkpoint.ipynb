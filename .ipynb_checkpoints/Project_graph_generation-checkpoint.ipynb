{
 "cells": [
  {
   "cell_type": "code",
   "execution_count": 72,
   "metadata": {
    "collapsed": true
   },
   "outputs": [],
   "source": [
    "#Questions: Are the different coefficients uniform amongst all the nodes in the graph ? Right now, they are equal for all nodes. \n",
    "# Yes they should be equal since we are assuming that the effect is shared and we just variate over the value of the feature.\n",
    "#To easily compute and update the happiness, we keep the following properties true during the evolution of the graph:\n",
    "# - the attribute contains the happiness of the current node at each step\n",
    "# - at the begining of a step, the attribute 'happiness_updating' contains coeff_X*X + coeff_Z*Z + coeff_previous_happiness*happiness.\n",
    "#Therefore we only have to add the influence of all the other nodes at 'happiness_updating' to obtain the updated happiness.\n",
    "\n",
    "#Here, at each step, we choose a random node and add one friend to it. Then update the happiness of everyone."
   ]
  },
  {
   "cell_type": "code",
   "execution_count": 73,
   "metadata": {
    "collapsed": false
   },
   "outputs": [],
   "source": [
    "%matplotlib inline\n",
    "import networkx as nx\n",
    "import matplotlib.pyplot as plt\n",
    "import numpy as np\n",
    "import scipy\n",
    "import random\n",
    "import math\n",
    "import pandas as pd\n",
    "from sklearn.linear_model import LogisticRegression\n",
    "import statsmodels.formula.api as sm"
   ]
  },
  {
   "cell_type": "code",
   "execution_count": 74,
   "metadata": {
    "collapsed": true
   },
   "outputs": [],
   "source": [
    "#Defining our global variables:\n",
    "N_nodes = 100\n",
    "#This is the rate of updated nodes for each run (only 70% of the nodes will have a new friend per run here for instance)\n",
    "rate_updated_nodes_per_run = 0.7"
   ]
  },
  {
   "cell_type": "code",
   "execution_count": 75,
   "metadata": {
    "collapsed": true
   },
   "outputs": [],
   "source": [
    "#Defining graph\n",
    "G=nx.DiGraph()\n",
    "G.add_nodes_from(range(N_nodes))"
   ]
  },
  {
   "cell_type": "code",
   "execution_count": 76,
   "metadata": {
    "collapsed": true
   },
   "outputs": [],
   "source": [
    "#Defining attributes\n",
    "for i in range(N_nodes):\n",
    "    G.node[i]['X'] = random.random()\n",
    "    G.node[i]['Z'] = random.random()\n",
    "    G.node[i]['coeff_X'] = 1\n",
    "    G.node[i]['coeff_Z'] = 1\n",
    "    G.node[i]['coeff_previous_happiness'] = 1\n",
    "    G.node[i]['coeff_influence'] = 1\n",
    "    G.node[i]['happiness'] = G.node[i]['X'] * G.node[i]['coeff_X'] + G.node[i]['Z'] * G.node[i]['coeff_Z']\n",
    "    G.node[i]['happiness_updating'] = G.node[i]['X'] * G.node[i]['coeff_X'] + G.node[i]['Z'] * G.node[i]['coeff_Z']+ G.node[i]['coeff_previous_happiness']* G.node[i]['happiness']"
   ]
  },
  {
   "cell_type": "code",
   "execution_count": 77,
   "metadata": {
    "collapsed": false
   },
   "outputs": [],
   "source": [
    "#Creating similarity matrices\n",
    "similarity_matrix = [[0 for i in range(N_nodes)] for j in range(N_nodes)]\n",
    "observable_matrix = [[0 for i in range(N_nodes)] for j in range(N_nodes)]\n",
    "similarity_coefficient = 3\n",
    "for i in range(N_nodes):\n",
    "    for j in range(i):\n",
    "        similarity_matrix[i][j] = -similarity_coefficient*math.sqrt((G.node[i]['X'] - G.node[j]['X'])**2 + (G.node[i]['Z'] - G.node[j]['Z'])**2)\n",
    "        observable_matrix[i][j] = math.sqrt((G.node[i]['X'] - G.node[j]['X'])**2) \n",
    "        similarity_matrix[i][j] = 1.0 / (1.0 + math.exp(-similarity_matrix[i][j]))\n",
    "        similarity_matrix[j][i] = similarity_matrix[i][j]\n",
    "        observable_matrix[j][i] = observable_matrix[i][j]\n",
    "        \n"
   ]
  },
  {
   "cell_type": "code",
   "execution_count": 78,
   "metadata": {
    "collapsed": false
   },
   "outputs": [],
   "source": [
    "#Creating set of potential friends for each node\n",
    "def create_list_potential_friends(Graph):\n",
    "    list_potential_friends = [[] for i in range(N_nodes)]\n",
    "    for i in range(N_nodes):\n",
    "        for j in range(N_nodes):\n",
    "            if i != j and (i,j) not in Graph.edges():\n",
    "                if random.random() < similarity_matrix[i][j]:\n",
    "                    list_potential_friends[i].append(j)\n",
    "    return list_potential_friends\n",
    "\n",
    "list_potential_friends = create_list_potential_friends(G)"
   ]
  },
  {
   "cell_type": "code",
   "execution_count": 79,
   "metadata": {
    "collapsed": true
   },
   "outputs": [],
   "source": [
    "#Function to add to the node \"node\" a random friend from his list of friends (and to remove him from the list)\n",
    "def add_one_friend(node, Graph, list_potential_friends_var):\n",
    "    if len(list_potential_friends_var[node])>0:\n",
    "        new_friend = random.choice(list_potential_friends_var[node])\n",
    "        Graph.add_edge(node, new_friend)\n",
    "        list_potential_friends_var = create_list_potential_friends(Graph)"
   ]
  },
  {
   "cell_type": "code",
   "execution_count": 80,
   "metadata": {
    "collapsed": true
   },
   "outputs": [],
   "source": [
    "#This step is made to add a friend for each node of the Graph\n",
    "def init_step(Graph):\n",
    "    for node in range(N_nodes):\n",
    "        add_one_friend(node, Graph, list_potential_friends)"
   ]
  },
  {
   "cell_type": "code",
   "execution_count": 81,
   "metadata": {
    "collapsed": true
   },
   "outputs": [],
   "source": [
    "#Update happiness \n",
    "def update_happiness(Graph):\n",
    "    for (a,b) in Graph.edges_iter():\n",
    "        Graph.node[a]['happiness_updating'] +=  G.node[a]['coeff_influence'] *Graph.node[b]['happiness']/len(Graph.neighbors(a))\n",
    "    for i in range(N_nodes):\n",
    "        Graph.node[i]['happiness'] = G.node[i]['happiness_updating']\n",
    "        Graph.node[i]['happiness_updating'] = G.node[i]['coeff_previous_happiness']*G.node[i]['happiness'] + G.node[i]['X'] * G.node[i]['coeff_X'] + G.node[i]['Z'] * G.node[i]['coeff_Z']"
   ]
  },
  {
   "cell_type": "code",
   "execution_count": 82,
   "metadata": {
    "collapsed": false
   },
   "outputs": [],
   "source": [
    "def run_step(Graph):\n",
    "    for node in range(N_nodes):\n",
    "        if random.random() < rate_updated_nodes_per_run:\n",
    "            add_one_friend(node, Graph, list_potential_friends)\n",
    "            update_happiness(Graph)"
   ]
  },
  {
   "cell_type": "code",
   "execution_count": null,
   "metadata": {
    "collapsed": true
   },
   "outputs": [],
   "source": [
    "#NO fixed point algorithm (convergence not guaranteed), rather use the outputs at the previous time.\n",
    "#Think about best convergence, not go through the nodes in the same way at each step"
   ]
  },
  {
   "cell_type": "code",
   "execution_count": null,
   "metadata": {
    "collapsed": false
   },
   "outputs": [],
   "source": [
    "#Main run for the graph\n",
    "nb_steps=10\n",
    "init_step(G)\n",
    "update_happiness(G)\n",
    "for i in range(nb_steps):\n",
    "    run_step(G)"
   ]
  },
  {
   "cell_type": "code",
   "execution_count": null,
   "metadata": {
    "collapsed": false
   },
   "outputs": [],
   "source": [
    "#Plotting the last graph obtained\n",
    "nx.draw(G)\n",
    "plt.show()"
   ]
  },
  {
   "cell_type": "code",
   "execution_count": null,
   "metadata": {
    "collapsed": false,
    "scrolled": true
   },
   "outputs": [],
   "source": [
    "for edge in G.edges():\n",
    "    print edge\n",
    "\n",
    "print (0,2) in G.edges()"
   ]
  },
  {
   "cell_type": "code",
   "execution_count": null,
   "metadata": {
    "collapsed": false
   },
   "outputs": [],
   "source": [
    "# Creation of Treatment and Response Table\n",
    "edges = []\n",
    "treatment = []\n",
    "response = []\n",
    "observable = []\n",
    "\n",
    "for j in range(N_nodes):\n",
    "    observed_similarity = []\n",
    "    n_friends = 0\n",
    "    for i in range(N_nodes):\n",
    "        if i!=j:\n",
    "            if (i,j) in G.edges():\n",
    "                n_friends+=1\n",
    "                edges.append((i,j))\n",
    "                treatment.append(True)\n",
    "                response.append(G.node[i]['happiness'])\n",
    "                observable.append(G.node[i]['X'])\n",
    "            else:\n",
    "                observed_similarity.append((observable_matrix[i][j],(i,j)))\n",
    "    sorted(observed_similarity)\n",
    "    for k in range(n_friends):\n",
    "        control = observed_similarity[k][1]\n",
    "        edges.append(control)\n",
    "        treatment.append(False)\n",
    "        response.append(G.node[control[0]]['happiness'])\n",
    "        observable.append(G.node[control[0]]['X'])\n",
    "        \n",
    "data = pd.DataFrame({'Edges':edges,\n",
    "                    'Treatment': treatment,\n",
    "                    'Response': response,\n",
    "                    'X': observable})\n",
    "        \n",
    "        \n",
    "        "
   ]
  },
  {
   "cell_type": "code",
   "execution_count": null,
   "metadata": {
    "collapsed": false
   },
   "outputs": [],
   "source": [
    "data"
   ]
  },
  {
   "cell_type": "code",
   "execution_count": null,
   "metadata": {
    "collapsed": false
   },
   "outputs": [],
   "source": [
    "result = sm.ols(formula=\"Response ~ Treatment + X\", data=data).fit()"
   ]
  },
  {
   "cell_type": "code",
   "execution_count": null,
   "metadata": {
    "collapsed": false
   },
   "outputs": [],
   "source": [
    "result.params"
   ]
  },
  {
   "cell_type": "code",
   "execution_count": null,
   "metadata": {
    "collapsed": true
   },
   "outputs": [],
   "source": []
  }
 ],
 "metadata": {
  "kernelspec": {
   "display_name": "Python 2",
   "language": "python",
   "name": "python2"
  },
  "language_info": {
   "codemirror_mode": {
    "name": "ipython",
    "version": 2
   },
   "file_extension": ".py",
   "mimetype": "text/x-python",
   "name": "python",
   "nbconvert_exporter": "python",
   "pygments_lexer": "ipython2",
   "version": "2.7.9"
  }
 },
 "nbformat": 4,
 "nbformat_minor": 0
}
