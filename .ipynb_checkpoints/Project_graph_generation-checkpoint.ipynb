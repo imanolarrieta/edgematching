{
 "cells": [
  {
   "cell_type": "code",
   "execution_count": 422,
   "metadata": {
    "collapsed": true
   },
   "outputs": [],
   "source": [
    "#Questions: Are the different coefficients uniform amongst all the nodes in the graph ? Right now, they are equal for all nodes. \n",
    "# Yes they should be equal since we are assuming that the effect is shared and we just variate over the value of the feature.\n",
    "#To easily compute and update the happiness, we keep the following properties true during the evolution of the graph:\n",
    "# - the attribute contains the happiness of the current node at each step\n",
    "# - at the begining of a step, the attribute 'happiness_updating' contains coeff_X*X + coeff_Z*Z + coeff_previous_happiness*happiness.\n",
    "#Therefore we only have to add the influence of all the other nodes at 'happiness_updating' to obtain the updated happiness.\n",
    "\n",
    "#Here, at each step, we choose a random node and add one friend to it. Then update the happiness of everyone."
   ]
  },
  {
   "cell_type": "code",
   "execution_count": 423,
   "metadata": {
    "collapsed": false
   },
   "outputs": [],
   "source": [
    "%matplotlib inline\n",
    "import networkx as nx\n",
    "import matplotlib.pyplot as plt\n",
    "import numpy as np\n",
    "import scipy\n",
    "import random\n",
    "import math\n",
    "import pandas as pd\n",
    "from sklearn.linear_model import LogisticRegression\n",
    "import statsmodels.formula.api as sm"
   ]
  },
  {
   "cell_type": "code",
   "execution_count": 424,
   "metadata": {
    "collapsed": true
   },
   "outputs": [],
   "source": [
    "#Defining our global variables:\n",
    "N_nodes = 10\n",
    "#This is the rate of updated nodes for each run (only 70% of the nodes will have a new friend per run here for instance)\n",
    "rate_updated_nodes_per_run = 0.7"
   ]
  },
  {
   "cell_type": "code",
   "execution_count": 425,
   "metadata": {
    "collapsed": true
   },
   "outputs": [],
   "source": [
    "#Defining graph\n",
    "G=nx.DiGraph()\n",
    "G.add_nodes_from(range(N_nodes))"
   ]
  },
  {
   "cell_type": "code",
   "execution_count": 426,
   "metadata": {
    "collapsed": true
   },
   "outputs": [],
   "source": [
    "#Defining attributes\n",
    "for i in range(N_nodes):\n",
    "    G.node[i]['X'] = random.random()\n",
    "    G.node[i]['Z'] = random.random()\n",
    "    G.node[i]['coeff_X'] = 1\n",
    "    G.node[i]['coeff_Z'] = 1\n",
    "    G.node[i]['coeff_previous_happiness'] = 1\n",
    "    G.node[i]['coeff_influence'] = 1\n",
    "    G.node[i]['happiness'] = G.node[i]['X'] * G.node[i]['coeff_X'] + G.node[i]['Z'] * G.node[i]['coeff_Z']\n",
    "    G.node[i]['previous_happiness'] = []\n",
    "    G.node[i]['happiness_updating'] = G.node[i]['X'] * G.node[i]['coeff_X'] + G.node[i]['Z'] * G.node[i]['coeff_Z']+ G.node[i]['coeff_previous_happiness']* G.node[i]['happiness']"
   ]
  },
  {
   "cell_type": "code",
   "execution_count": 427,
   "metadata": {
    "collapsed": false
   },
   "outputs": [],
   "source": [
    "#Creating similarity matrices\n",
    "similarity_matrix = [[0 for i in range(N_nodes)] for j in range(N_nodes)]\n",
    "observable_matrix = [[0 for i in range(N_nodes)] for j in range(N_nodes)]\n",
    "similarity_coefficient = 3\n",
    "for i in range(N_nodes):\n",
    "    for j in range(i):\n",
    "        similarity_matrix[i][j] = -similarity_coefficient*math.sqrt((G.node[i]['X'] - G.node[j]['X'])**2 + (G.node[i]['Z'] - G.node[j]['Z'])**2)\n",
    "        observable_matrix[i][j] = math.sqrt((G.node[i]['X'] - G.node[j]['X'])**2) \n",
    "        similarity_matrix[i][j] = 1.0 / (1.0 + math.exp(-similarity_matrix[i][j]))\n",
    "        similarity_matrix[j][i] = similarity_matrix[i][j]\n",
    "        observable_matrix[j][i] = observable_matrix[i][j]\n",
    "        \n"
   ]
  },
  {
   "cell_type": "code",
   "execution_count": 428,
   "metadata": {
    "collapsed": false
   },
   "outputs": [],
   "source": [
    "#Creating set of potential friends for each node\n",
    "def create_list_potential_friends(Graph):\n",
    "    list_potential_friends = [[] for i in range(N_nodes)]\n",
    "    for i in range(N_nodes):\n",
    "        for j in range(N_nodes):\n",
    "            if i != j and (i,j) not in Graph.edges():\n",
    "                if random.random() < similarity_matrix[i][j]:\n",
    "                    list_potential_friends[i].append(j)\n",
    "    return list_potential_friends\n",
    "\n",
    "global list_potential_friends\n",
    "list_potential_friends = create_list_potential_friends(G)"
   ]
  },
  {
   "cell_type": "code",
   "execution_count": 429,
   "metadata": {
    "collapsed": true
   },
   "outputs": [],
   "source": [
    "#Function to add to the node \"node\" a random friend from his list of friends (and to remove him from the list)\n",
    "def add_one_friend(node, Graph, idx_step):\n",
    "    if len(list_potential_friends[node])>0:\n",
    "        new_friend = random.choice(list_potential_friends[node])\n",
    "        Graph.add_edge(node, new_friend, step_creation = idx_step)"
   ]
  },
  {
   "cell_type": "code",
   "execution_count": 430,
   "metadata": {
    "collapsed": true
   },
   "outputs": [],
   "source": [
    "#This step is made to add a friend for each node of the Graph\n",
    "def init_step(Graph, idx_step):\n",
    "    for node in range(N_nodes):\n",
    "        add_one_friend(node, Graph, idx_step)\n",
    "    update_happiness(Graph)"
   ]
  },
  {
   "cell_type": "code",
   "execution_count": 431,
   "metadata": {
    "collapsed": true
   },
   "outputs": [],
   "source": [
    "#Update happiness \n",
    "def update_happiness(Graph):\n",
    "    for (a,b) in Graph.edges_iter():\n",
    "        Graph.node[a]['happiness_updating'] +=  G.node[a]['coeff_influence'] *Graph.node[b]['happiness']/len(Graph.neighbors(a))\n",
    "    for i in range(N_nodes):\n",
    "        Graph.node[i]['previous_happiness'].append(G.node[i]['happiness'])\n",
    "        Graph.node[i]['happiness'] = G.node[i]['happiness_updating']\n",
    "        Graph.node[i]['happiness_updating'] = G.node[i]['coeff_previous_happiness']*G.node[i]['happiness'] + G.node[i]['X'] * G.node[i]['coeff_X'] + G.node[i]['Z'] * G.node[i]['coeff_Z']"
   ]
  },
  {
   "cell_type": "code",
   "execution_count": 432,
   "metadata": {
    "collapsed": false
   },
   "outputs": [],
   "source": [
    "def run_step(Graph, idx_step):\n",
    "    global list_potential_friends\n",
    "    for node in range(N_nodes):\n",
    "        if random.random() < rate_updated_nodes_per_run:\n",
    "            add_one_friend(node, Graph, idx_step)\n",
    "    update_happiness(Graph)\n",
    "    list_potential_friends = create_list_potential_friends(Graph)"
   ]
  },
  {
   "cell_type": "code",
   "execution_count": 433,
   "metadata": {
    "collapsed": false
   },
   "outputs": [
    {
     "name": "stdout",
     "output_type": "stream",
     "text": [
      "[[2, 7, 9], [5, 6, 8], [0, 1, 6, 8], [], [6, 7, 8], [3, 6, 7, 8], [], [8], [0, 2, 9], [4]]\n"
     ]
    }
   ],
   "source": [
    "print list_potential_friends"
   ]
  },
  {
   "cell_type": "code",
   "execution_count": 434,
   "metadata": {
    "collapsed": true
   },
   "outputs": [],
   "source": [
    "#NO fixed point algorithm (convergence not guaranteed), rather use the outputs at the previous time.\n",
    "#Think about best convergence, not go through the nodes in the same way at each step"
   ]
  },
  {
   "cell_type": "code",
   "execution_count": 435,
   "metadata": {
    "collapsed": false
   },
   "outputs": [
    {
     "name": "stdout",
     "output_type": "stream",
     "text": [
      "0\n"
     ]
    }
   ],
   "source": [
    "#Main run for the graph\n",
    "nb_steps=1\n",
    "init_step(G, 0)\n",
    "for i in range(nb_steps):\n",
    "    print i\n",
    "    run_step(G, i+1)"
   ]
  },
  {
   "cell_type": "code",
   "execution_count": 436,
   "metadata": {
    "collapsed": false
   },
   "outputs": [
    {
     "data": {
      "text/plain": [
       "{'X': 0.7043841502709461,\n",
       " 'Z': 0.39395264928483986,\n",
       " 'coeff_X': 1,\n",
       " 'coeff_Z': 1,\n",
       " 'coeff_influence': 1,\n",
       " 'coeff_previous_happiness': 1,\n",
       " 'happiness': 6.537317874677609,\n",
       " 'happiness_updating': 7.635654674233395,\n",
       " 'previous_happiness': [1.098336799555786, 3.1087579289222043]}"
      ]
     },
     "execution_count": 436,
     "metadata": {},
     "output_type": "execute_result"
    }
   ],
   "source": [
    "# for e in G.edges():\n",
    "#     print e['step_creation']\n",
    "# nx.get_edge_attributes(G, \"step_creation\")\n",
    "G.node[1]"
   ]
  },
  {
   "cell_type": "code",
   "execution_count": 437,
   "metadata": {
    "collapsed": false
   },
   "outputs": [
    {
     "data": {
      "image/png": "[encoded data removed]",
      "text/plain": [
       "<matplotlib.figure.Figure at 0x10627e650>"
      ]
     },
     "metadata": {},
     "output_type": "display_data"
    }
   ],
   "source": [
    "#Plotting the last graph obtained\n",
    "nx.draw(G)\n",
    "plt.show()"
   ]
  },
  {
   "cell_type": "code",
   "execution_count": 445,
   "metadata": {
    "collapsed": false,
    "scrolled": true
   },
   "outputs": [],
   "source": [
    "def create_propensity_table(Graph):\n",
    "    edges = []\n",
    "    treatment = []\n",
    "    response = []\n",
    "    X1 = []\n",
    "    X2 = []\n",
    "    for i in range(N_nodes):\n",
    "        for j in range(i+1,N_nodes):\n",
    "            if Graph.node[j]['previous_happiness'][0]> Graph.node[i]['previous_happiness'][0]:\n",
    "                u,v = i,j\n",
    "            else:\n",
    "                u,v = j,i\n",
    "                \n",
    "            if (u,v) in Graph.edges():\n",
    "                treatment.append(1)\n",
    "                step_creation = Graph[u][v]['step_creation']\n",
    "                edges.append((u,v))\n",
    "                response.append(Graph.node[u]['happiness'] - Graph.node[u]['previous_happiness'][0])\n",
    "                X1.append(Graph.node[u]['X'])\n",
    "                X2.append(Graph.node[v]['X'])\n",
    "            elif len(Graph.neighbors(u))==1 :\n",
    "                edges.append((u,v))\n",
    "                treatment.append(0)\n",
    "                response.append(Graph.node[u]['happiness'] - Graph.node[u]['previous_happiness'][0])\n",
    "                X1.append(Graph.node[u]['X'])\n",
    "                X2.append(Graph.node[v]['X'])\n",
    "                \n",
    "            \n",
    "                \n",
    "    return pd.DataFrame({'Edges':edges,\n",
    "                    'Treatment': treatment,\n",
    "                    'Response': response,\n",
    "                    'X1': X1,\n",
    "                    'X2': X2})"
   ]
  },
  {
   "cell_type": "code",
   "execution_count": 446,
   "metadata": {
    "collapsed": false
   },
   "outputs": [
    {
     "data": {
      "text/html": [
       "<div>\n",
       "<table border=\"1\" class=\"dataframe\">\n",
       "  <thead>\n",
       "    <tr style=\"text-align: right;\">\n",
       "      <th></th>\n",
       "      <th>Edges</th>\n",
       "      <th>Response</th>\n",
       "      <th>Treatment</th>\n",
       "      <th>X1</th>\n",
       "      <th>X2</th>\n",
       "      <th>X3</th>\n",
       "    </tr>\n",
       "  </thead>\n",
       "  <tbody>\n",
       "    <tr>\n",
       "      <th>0</th>\n",
       "      <td>(4, 0)</td>\n",
       "      <td>5.174188</td>\n",
       "      <td>0</td>\n",
       "      <td>0.719740</td>\n",
       "      <td>0.963168</td>\n",
       "      <td>0.243428</td>\n",
       "    </tr>\n",
       "    <tr>\n",
       "      <th>1</th>\n",
       "      <td>(7, 0)</td>\n",
       "      <td>6.075953</td>\n",
       "      <td>0</td>\n",
       "      <td>0.647808</td>\n",
       "      <td>0.963168</td>\n",
       "      <td>0.315360</td>\n",
       "    </tr>\n",
       "    <tr>\n",
       "      <th>2</th>\n",
       "      <td>(8, 0)</td>\n",
       "      <td>7.984245</td>\n",
       "      <td>1</td>\n",
       "      <td>0.595565</td>\n",
       "      <td>0.963168</td>\n",
       "      <td>0.367603</td>\n",
       "    </tr>\n",
       "    <tr>\n",
       "      <th>3</th>\n",
       "      <td>(9, 0)</td>\n",
       "      <td>8.005471</td>\n",
       "      <td>0</td>\n",
       "      <td>0.438465</td>\n",
       "      <td>0.963168</td>\n",
       "      <td>0.524703</td>\n",
       "    </tr>\n",
       "    <tr>\n",
       "      <th>4</th>\n",
       "      <td>(7, 1)</td>\n",
       "      <td>6.075953</td>\n",
       "      <td>0</td>\n",
       "      <td>0.647808</td>\n",
       "      <td>0.704384</td>\n",
       "      <td>0.056576</td>\n",
       "    </tr>\n",
       "    <tr>\n",
       "      <th>5</th>\n",
       "      <td>(4, 2)</td>\n",
       "      <td>5.174188</td>\n",
       "      <td>0</td>\n",
       "      <td>0.719740</td>\n",
       "      <td>0.946739</td>\n",
       "      <td>0.226999</td>\n",
       "    </tr>\n",
       "    <tr>\n",
       "      <th>6</th>\n",
       "      <td>(7, 2)</td>\n",
       "      <td>6.075953</td>\n",
       "      <td>0</td>\n",
       "      <td>0.647808</td>\n",
       "      <td>0.946739</td>\n",
       "      <td>0.298931</td>\n",
       "    </tr>\n",
       "    <tr>\n",
       "      <th>7</th>\n",
       "      <td>(9, 2)</td>\n",
       "      <td>8.005471</td>\n",
       "      <td>0</td>\n",
       "      <td>0.438465</td>\n",
       "      <td>0.946739</td>\n",
       "      <td>0.508274</td>\n",
       "    </tr>\n",
       "    <tr>\n",
       "      <th>8</th>\n",
       "      <td>(5, 3)</td>\n",
       "      <td>3.878941</td>\n",
       "      <td>1</td>\n",
       "      <td>0.608738</td>\n",
       "      <td>0.989749</td>\n",
       "      <td>0.381011</td>\n",
       "    </tr>\n",
       "    <tr>\n",
       "      <th>9</th>\n",
       "      <td>(7, 3)</td>\n",
       "      <td>6.075953</td>\n",
       "      <td>0</td>\n",
       "      <td>0.647808</td>\n",
       "      <td>0.989749</td>\n",
       "      <td>0.341941</td>\n",
       "    </tr>\n",
       "    <tr>\n",
       "      <th>10</th>\n",
       "      <td>(7, 4)</td>\n",
       "      <td>6.075953</td>\n",
       "      <td>0</td>\n",
       "      <td>0.647808</td>\n",
       "      <td>0.719740</td>\n",
       "      <td>0.071932</td>\n",
       "    </tr>\n",
       "    <tr>\n",
       "      <th>11</th>\n",
       "      <td>(9, 4)</td>\n",
       "      <td>8.005471</td>\n",
       "      <td>1</td>\n",
       "      <td>0.438465</td>\n",
       "      <td>0.719740</td>\n",
       "      <td>0.281275</td>\n",
       "    </tr>\n",
       "    <tr>\n",
       "      <th>12</th>\n",
       "      <td>(5, 6)</td>\n",
       "      <td>3.878941</td>\n",
       "      <td>1</td>\n",
       "      <td>0.608738</td>\n",
       "      <td>0.319825</td>\n",
       "      <td>0.288913</td>\n",
       "    </tr>\n",
       "    <tr>\n",
       "      <th>13</th>\n",
       "      <td>(7, 9)</td>\n",
       "      <td>6.075953</td>\n",
       "      <td>0</td>\n",
       "      <td>0.647808</td>\n",
       "      <td>0.438465</td>\n",
       "      <td>0.209343</td>\n",
       "    </tr>\n",
       "    <tr>\n",
       "      <th>14</th>\n",
       "      <td>(8, 9)</td>\n",
       "      <td>7.984245</td>\n",
       "      <td>1</td>\n",
       "      <td>0.595565</td>\n",
       "      <td>0.438465</td>\n",
       "      <td>0.157101</td>\n",
       "    </tr>\n",
       "  </tbody>\n",
       "</table>\n",
       "</div>"
      ],
      "text/plain": [
       "     Edges  Response  Treatment        X1        X2        X3\n",
       "0   (4, 0)  5.174188          0  0.719740  0.963168  0.243428\n",
       "1   (7, 0)  6.075953          0  0.647808  0.963168  0.315360\n",
       "2   (8, 0)  7.984245          1  0.595565  0.963168  0.367603\n",
       "3   (9, 0)  8.005471          0  0.438465  0.963168  0.524703\n",
       "4   (7, 1)  6.075953          0  0.647808  0.704384  0.056576\n",
       "5   (4, 2)  5.174188          0  0.719740  0.946739  0.226999\n",
       "6   (7, 2)  6.075953          0  0.647808  0.946739  0.298931\n",
       "7   (9, 2)  8.005471          0  0.438465  0.946739  0.508274\n",
       "8   (5, 3)  3.878941          1  0.608738  0.989749  0.381011\n",
       "9   (7, 3)  6.075953          0  0.647808  0.989749  0.341941\n",
       "10  (7, 4)  6.075953          0  0.647808  0.719740  0.071932\n",
       "11  (9, 4)  8.005471          1  0.438465  0.719740  0.281275\n",
       "12  (5, 6)  3.878941          1  0.608738  0.319825  0.288913\n",
       "13  (7, 9)  6.075953          0  0.647808  0.438465  0.209343\n",
       "14  (8, 9)  7.984245          1  0.595565  0.438465  0.157101"
      ]
     },
     "execution_count": 446,
     "metadata": {},
     "output_type": "execute_result"
    }
   ],
   "source": [
    "data = create_propensity_table(G)\n",
    "data['X3'] = abs(data['X2']-data['X1'])\n",
    "data"
   ]
  },
  {
   "cell_type": "code",
   "execution_count": 447,
   "metadata": {
    "collapsed": false
   },
   "outputs": [],
   "source": [
    "propensity = LogisticRegression()\n",
    "propensity = propensity.fit(data[['X1','X2','X3']], data.Treatment)\n",
    "pscore = propensity.predict_proba(data[['X1','X2','X3']])[:,1] # The predicted propensities by the model\n",
    "data['Propensity'] = pscore"
   ]
  },
  {
   "cell_type": "code",
   "execution_count": 448,
   "metadata": {
    "collapsed": false
   },
   "outputs": [
    {
     "data": {
      "text/html": [
       "<div>\n",
       "<table border=\"1\" class=\"dataframe\">\n",
       "  <thead>\n",
       "    <tr style=\"text-align: right;\">\n",
       "      <th></th>\n",
       "      <th>Edges</th>\n",
       "      <th>Response</th>\n",
       "      <th>Treatment</th>\n",
       "      <th>X1</th>\n",
       "      <th>X2</th>\n",
       "      <th>X3</th>\n",
       "      <th>Propensity</th>\n",
       "    </tr>\n",
       "  </thead>\n",
       "  <tbody>\n",
       "    <tr>\n",
       "      <th>0</th>\n",
       "      <td>(4, 0)</td>\n",
       "      <td>5.174188</td>\n",
       "      <td>0</td>\n",
       "      <td>0.719740</td>\n",
       "      <td>0.963168</td>\n",
       "      <td>0.243428</td>\n",
       "      <td>0.313349</td>\n",
       "    </tr>\n",
       "    <tr>\n",
       "      <th>1</th>\n",
       "      <td>(7, 0)</td>\n",
       "      <td>6.075953</td>\n",
       "      <td>0</td>\n",
       "      <td>0.647808</td>\n",
       "      <td>0.963168</td>\n",
       "      <td>0.315360</td>\n",
       "      <td>0.317472</td>\n",
       "    </tr>\n",
       "    <tr>\n",
       "      <th>2</th>\n",
       "      <td>(8, 0)</td>\n",
       "      <td>7.984245</td>\n",
       "      <td>1</td>\n",
       "      <td>0.595565</td>\n",
       "      <td>0.963168</td>\n",
       "      <td>0.367603</td>\n",
       "      <td>0.320485</td>\n",
       "    </tr>\n",
       "    <tr>\n",
       "      <th>3</th>\n",
       "      <td>(9, 0)</td>\n",
       "      <td>8.005471</td>\n",
       "      <td>0</td>\n",
       "      <td>0.438465</td>\n",
       "      <td>0.963168</td>\n",
       "      <td>0.524703</td>\n",
       "      <td>0.329635</td>\n",
       "    </tr>\n",
       "    <tr>\n",
       "      <th>4</th>\n",
       "      <td>(7, 1)</td>\n",
       "      <td>6.075953</td>\n",
       "      <td>0</td>\n",
       "      <td>0.647808</td>\n",
       "      <td>0.704384</td>\n",
       "      <td>0.056576</td>\n",
       "      <td>0.347000</td>\n",
       "    </tr>\n",
       "    <tr>\n",
       "      <th>5</th>\n",
       "      <td>(4, 2)</td>\n",
       "      <td>5.174188</td>\n",
       "      <td>0</td>\n",
       "      <td>0.719740</td>\n",
       "      <td>0.946739</td>\n",
       "      <td>0.226999</td>\n",
       "      <td>0.315170</td>\n",
       "    </tr>\n",
       "    <tr>\n",
       "      <th>6</th>\n",
       "      <td>(7, 2)</td>\n",
       "      <td>6.075953</td>\n",
       "      <td>0</td>\n",
       "      <td>0.647808</td>\n",
       "      <td>0.946739</td>\n",
       "      <td>0.298931</td>\n",
       "      <td>0.319307</td>\n",
       "    </tr>\n",
       "    <tr>\n",
       "      <th>7</th>\n",
       "      <td>(9, 2)</td>\n",
       "      <td>8.005471</td>\n",
       "      <td>0</td>\n",
       "      <td>0.438465</td>\n",
       "      <td>0.946739</td>\n",
       "      <td>0.508274</td>\n",
       "      <td>0.331506</td>\n",
       "    </tr>\n",
       "    <tr>\n",
       "      <th>8</th>\n",
       "      <td>(5, 3)</td>\n",
       "      <td>3.878941</td>\n",
       "      <td>1</td>\n",
       "      <td>0.608738</td>\n",
       "      <td>0.989749</td>\n",
       "      <td>0.381011</td>\n",
       "      <td>0.316757</td>\n",
       "    </tr>\n",
       "    <tr>\n",
       "      <th>9</th>\n",
       "      <td>(7, 3)</td>\n",
       "      <td>6.075953</td>\n",
       "      <td>0</td>\n",
       "      <td>0.647808</td>\n",
       "      <td>0.989749</td>\n",
       "      <td>0.341941</td>\n",
       "      <td>0.314516</td>\n",
       "    </tr>\n",
       "    <tr>\n",
       "      <th>10</th>\n",
       "      <td>(7, 4)</td>\n",
       "      <td>6.075953</td>\n",
       "      <td>0</td>\n",
       "      <td>0.647808</td>\n",
       "      <td>0.719740</td>\n",
       "      <td>0.071932</td>\n",
       "      <td>0.345212</td>\n",
       "    </tr>\n",
       "    <tr>\n",
       "      <th>11</th>\n",
       "      <td>(9, 4)</td>\n",
       "      <td>8.005471</td>\n",
       "      <td>1</td>\n",
       "      <td>0.438465</td>\n",
       "      <td>0.719740</td>\n",
       "      <td>0.281275</td>\n",
       "      <td>0.357881</td>\n",
       "    </tr>\n",
       "    <tr>\n",
       "      <th>12</th>\n",
       "      <td>(5, 6)</td>\n",
       "      <td>3.878941</td>\n",
       "      <td>1</td>\n",
       "      <td>0.608738</td>\n",
       "      <td>0.319825</td>\n",
       "      <td>0.288913</td>\n",
       "      <td>0.401545</td>\n",
       "    </tr>\n",
       "    <tr>\n",
       "      <th>13</th>\n",
       "      <td>(7, 9)</td>\n",
       "      <td>6.075953</td>\n",
       "      <td>0</td>\n",
       "      <td>0.647808</td>\n",
       "      <td>0.438465</td>\n",
       "      <td>0.209343</td>\n",
       "      <td>0.382883</td>\n",
       "    </tr>\n",
       "    <tr>\n",
       "      <th>14</th>\n",
       "      <td>(8, 9)</td>\n",
       "      <td>7.984245</td>\n",
       "      <td>1</td>\n",
       "      <td>0.595565</td>\n",
       "      <td>0.438465</td>\n",
       "      <td>0.157101</td>\n",
       "      <td>0.385096</td>\n",
       "    </tr>\n",
       "  </tbody>\n",
       "</table>\n",
       "</div>"
      ],
      "text/plain": [
       "     Edges  Response  Treatment        X1        X2        X3  Propensity\n",
       "0   (4, 0)  5.174188          0  0.719740  0.963168  0.243428    0.313349\n",
       "1   (7, 0)  6.075953          0  0.647808  0.963168  0.315360    0.317472\n",
       "2   (8, 0)  7.984245          1  0.595565  0.963168  0.367603    0.320485\n",
       "3   (9, 0)  8.005471          0  0.438465  0.963168  0.524703    0.329635\n",
       "4   (7, 1)  6.075953          0  0.647808  0.704384  0.056576    0.347000\n",
       "5   (4, 2)  5.174188          0  0.719740  0.946739  0.226999    0.315170\n",
       "6   (7, 2)  6.075953          0  0.647808  0.946739  0.298931    0.319307\n",
       "7   (9, 2)  8.005471          0  0.438465  0.946739  0.508274    0.331506\n",
       "8   (5, 3)  3.878941          1  0.608738  0.989749  0.381011    0.316757\n",
       "9   (7, 3)  6.075953          0  0.647808  0.989749  0.341941    0.314516\n",
       "10  (7, 4)  6.075953          0  0.647808  0.719740  0.071932    0.345212\n",
       "11  (9, 4)  8.005471          1  0.438465  0.719740  0.281275    0.357881\n",
       "12  (5, 6)  3.878941          1  0.608738  0.319825  0.288913    0.401545\n",
       "13  (7, 9)  6.075953          0  0.647808  0.438465  0.209343    0.382883\n",
       "14  (8, 9)  7.984245          1  0.595565  0.438465  0.157101    0.385096"
      ]
     },
     "execution_count": 448,
     "metadata": {},
     "output_type": "execute_result"
    }
   ],
   "source": [
    "data"
   ]
  },
  {
   "cell_type": "code",
   "execution_count": 449,
   "metadata": {
    "collapsed": true
   },
   "outputs": [],
   "source": [
    "def Match(groups, propensity, caliper = 0.05):\n",
    "    ''' \n",
    "    Inputs:\n",
    "    groups = Treatment assignments.  Must be 2 groups\n",
    "    propensity = Propensity scores for each observation. Propensity and groups should be in the same order (matching indices)\n",
    "    caliper = Maximum difference in matched propensity scores. For now, this is a caliper on the raw\n",
    "            propensity; Austin reccommends using a caliper on the logit propensity.\n",
    "    \n",
    "    Output:\n",
    "    A series containing the individuals in the control group matched to the treatment group.\n",
    "    Note that with caliper matching, not every treated individual may have a match.\n",
    "    '''\n",
    "\n",
    "    # Check inputs\n",
    "    if any(propensity <=0) or any(propensity >=1):\n",
    "        raise ValueError('Propensity scores must be between 0 and 1')\n",
    "    elif not(0<caliper<1):\n",
    "        raise ValueError('Caliper must be between 0 and 1')\n",
    "    elif len(groups)!= len(propensity):\n",
    "        raise ValueError('groups and propensity scores must be same dimension')\n",
    "    elif len(groups.unique()) != 2:\n",
    "        raise ValueError('wrong number of groups')\n",
    "        \n",
    "        \n",
    "    # Code groups as 0 and 1\n",
    "    groups = groups == groups.unique()[0]\n",
    "    N = len(groups)\n",
    "    N1 = groups.sum(); N2 = N-N1\n",
    "    g1, g2 = propensity[groups == 1].reset_index(drop=True), (propensity[groups == 0]).reset_index(drop=True)\n",
    "    # Check if treatment groups got flipped - treatment (coded 1) should be the smaller\n",
    "    if N1 > N2:\n",
    "        N1, N2, g1, g2 = N2, N1, g2, g1 \n",
    "        \n",
    "        \n",
    "    # Randomly permute the smaller group to get order for matching\n",
    "    morder = np.random.permutation(N1)\n",
    "    matches = pd.Series(np.empty(N1))\n",
    "    matches[:] = np.NAN\n",
    "    \n",
    "    for m in morder:\n",
    "        dist = abs(g1[m] - g2)\n",
    "        if dist.min() <= caliper:\n",
    "            matches[m] = int(dist.argmin())\n",
    "            g2 = g2.drop(matches[m])\n",
    "    return (matches)\n"
   ]
  },
  {
   "cell_type": "code",
   "execution_count": 451,
   "metadata": {
    "collapsed": false
   },
   "outputs": [
    {
     "data": {
      "text/plain": [
       "0    5\n",
       "1    1\n",
       "2    8\n",
       "3    9\n",
       "4    3\n",
       "dtype: float64"
      ]
     },
     "execution_count": 451,
     "metadata": {},
     "output_type": "execute_result"
    }
   ],
   "source": [
    "stuff = Match(data.Treatment, data.Propensity)\n",
    "stuff\n"
   ]
  },
  {
   "cell_type": "code",
   "execution_count": 452,
   "metadata": {
    "collapsed": false
   },
   "outputs": [
    {
     "data": {
      "text/plain": [
       "[(0.3204851431423123, 0.31517040681148017),\n",
       " (0.31675651665058341, 0.31747216074458123),\n",
       " (0.35788065551775122, nan),\n",
       " (0.40154537724418427, 0.31451590137432667),\n",
       " (0.38509630112870957, 0.32963545684700929)]"
      ]
     },
     "execution_count": 452,
     "metadata": {},
     "output_type": "execute_result"
    }
   ],
   "source": [
    "g1, g2 = data.Propensity[data.Treatment==1], data.Propensity[data.Treatment==0]\n",
    "zip(g1, g2[stuff])"
   ]
  },
  {
   "cell_type": "code",
   "execution_count": 456,
   "metadata": {
    "collapsed": false
   },
   "outputs": [
    {
     "data": {
      "text/html": [
       "<div>\n",
       "<table border=\"1\" class=\"dataframe\">\n",
       "  <thead>\n",
       "    <tr style=\"text-align: right;\">\n",
       "      <th></th>\n",
       "      <th>Edges</th>\n",
       "      <th>Response</th>\n",
       "      <th>Treatment</th>\n",
       "      <th>X1</th>\n",
       "      <th>X2</th>\n",
       "      <th>X3</th>\n",
       "      <th>Propensity</th>\n",
       "    </tr>\n",
       "  </thead>\n",
       "  <tbody>\n",
       "    <tr>\n",
       "      <th>2</th>\n",
       "      <td>(8, 0)</td>\n",
       "      <td>7.984245</td>\n",
       "      <td>1</td>\n",
       "      <td>0.595565</td>\n",
       "      <td>0.963168</td>\n",
       "      <td>0.367603</td>\n",
       "      <td>0.320485</td>\n",
       "    </tr>\n",
       "    <tr>\n",
       "      <th>8</th>\n",
       "      <td>(5, 3)</td>\n",
       "      <td>3.878941</td>\n",
       "      <td>1</td>\n",
       "      <td>0.608738</td>\n",
       "      <td>0.989749</td>\n",
       "      <td>0.381011</td>\n",
       "      <td>0.316757</td>\n",
       "    </tr>\n",
       "    <tr>\n",
       "      <th>11</th>\n",
       "      <td>(9, 4)</td>\n",
       "      <td>8.005471</td>\n",
       "      <td>1</td>\n",
       "      <td>0.438465</td>\n",
       "      <td>0.719740</td>\n",
       "      <td>0.281275</td>\n",
       "      <td>0.357881</td>\n",
       "    </tr>\n",
       "    <tr>\n",
       "      <th>12</th>\n",
       "      <td>(5, 6)</td>\n",
       "      <td>3.878941</td>\n",
       "      <td>1</td>\n",
       "      <td>0.608738</td>\n",
       "      <td>0.319825</td>\n",
       "      <td>0.288913</td>\n",
       "      <td>0.401545</td>\n",
       "    </tr>\n",
       "    <tr>\n",
       "      <th>14</th>\n",
       "      <td>(8, 9)</td>\n",
       "      <td>7.984245</td>\n",
       "      <td>1</td>\n",
       "      <td>0.595565</td>\n",
       "      <td>0.438465</td>\n",
       "      <td>0.157101</td>\n",
       "      <td>0.385096</td>\n",
       "    </tr>\n",
       "  </tbody>\n",
       "</table>\n",
       "</div>"
      ],
      "text/plain": [
       "     Edges  Response  Treatment        X1        X2        X3  Propensity\n",
       "2   (8, 0)  7.984245          1  0.595565  0.963168  0.367603    0.320485\n",
       "8   (5, 3)  3.878941          1  0.608738  0.989749  0.381011    0.316757\n",
       "11  (9, 4)  8.005471          1  0.438465  0.719740  0.281275    0.357881\n",
       "12  (5, 6)  3.878941          1  0.608738  0.319825  0.288913    0.401545\n",
       "14  (8, 9)  7.984245          1  0.595565  0.438465  0.157101    0.385096"
      ]
     },
     "execution_count": 456,
     "metadata": {},
     "output_type": "execute_result"
    }
   ],
   "source": [
    "r1 = data[data.Treatment==1]\n",
    "st=[int(x) for x in stuff]\n",
    "data2 = pd.concat([data.iloc[st],r1])\n",
    "data2\n",
    "r1"
   ]
  },
  {
   "cell_type": "code",
   "execution_count": null,
   "metadata": {
    "collapsed": true
   },
   "outputs": [],
   "source": []
  },
  {
   "cell_type": "code",
   "execution_count": 454,
   "metadata": {
    "collapsed": false
   },
   "outputs": [],
   "source": [
    "result = sm.ols(formula=\"Response ~ Treatment + X1\", data=data2).fit()"
   ]
  },
  {
   "cell_type": "code",
   "execution_count": 455,
   "metadata": {
    "collapsed": false
   },
   "outputs": [
    {
     "data": {
      "text/plain": [
       "Intercept    14.003906\n",
       "Treatment    -0.866520\n",
       "X1          -12.504610\n",
       "dtype: float64"
      ]
     },
     "execution_count": 455,
     "metadata": {},
     "output_type": "execute_result"
    }
   ],
   "source": [
    "result.params"
   ]
  },
  {
   "cell_type": "code",
   "execution_count": null,
   "metadata": {
    "collapsed": true
   },
   "outputs": [],
   "source": []
  },
  {
   "cell_type": "code",
   "execution_count": null,
   "metadata": {
    "collapsed": true
   },
   "outputs": [],
   "source": []
  }
 ],
 "metadata": {
  "kernelspec": {
   "display_name": "Python 2",
   "language": "python",
   "name": "python2"
  },
  "language_info": {
   "codemirror_mode": {
    "name": "ipython",
    "version": 2
   },
   "file_extension": ".py",
   "mimetype": "text/x-python",
   "name": "python",
   "nbconvert_exporter": "python",
   "pygments_lexer": "ipython2",
   "version": "2.7.10"
  }
 },
 "nbformat": 4,
 "nbformat_minor": 0
}
