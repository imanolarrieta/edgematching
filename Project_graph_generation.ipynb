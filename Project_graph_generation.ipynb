{
 "cells": [
  {
   "cell_type": "code",
   "execution_count": 585,
   "metadata": {
    "collapsed": true
   },
   "outputs": [],
   "source": [
    "#Questions: Are the different coefficients uniform amongst all the nodes in the graph ? Right now, they are equal for all nodes. \n",
    "# Yes they should be equal since we are assuming that the effect is shared and we just variate over the value of the feature.\n",
    "#To easily compute and update the happiness, we keep the following properties true during the evolution of the graph:\n",
    "# - the attribute contains the happiness of the current node at each step\n",
    "# - at the begining of a step, the attribute 'happiness_updating' contains coeff_X*X + coeff_Z*Z + coeff_previous_happiness*happiness.\n",
    "#Therefore we only have to add the influence of all the other nodes at 'happiness_updating' to obtain the updated happiness.\n",
    "\n",
    "#Here, at each step, we choose a random node and add one friend to it. Then update the happiness of everyone."
   ]
  },
  {
   "cell_type": "code",
   "execution_count": 586,
   "metadata": {
    "collapsed": false
   },
   "outputs": [],
   "source": [
    "%matplotlib inline\n",
    "import networkx as nx\n",
    "import matplotlib.pyplot as plt\n",
    "import numpy as np\n",
    "import scipy\n",
    "import random\n",
    "import math\n",
    "import pandas as pd\n",
    "from sklearn.linear_model import LogisticRegression\n",
    "import statsmodels.formula.api as sm"
   ]
  },
  {
   "cell_type": "code",
   "execution_count": 587,
   "metadata": {
    "collapsed": true
   },
   "outputs": [],
   "source": [
    "#Defining our global variables:\n",
    "N_nodes = 1000\n",
    "#This is the rate of updated nodes for each run (only 70% of the nodes will have a new friend per run here for instance)\n",
    "rate_updated_nodes_per_run = 0.7"
   ]
  },
  {
   "cell_type": "code",
   "execution_count": 588,
   "metadata": {
    "collapsed": true
   },
   "outputs": [],
   "source": [
    "#Defining graph\n",
    "G=nx.DiGraph()\n",
    "G.add_nodes_from(range(N_nodes))"
   ]
  },
  {
   "cell_type": "code",
   "execution_count": 589,
   "metadata": {
    "collapsed": true
   },
   "outputs": [],
   "source": [
    "#Defining attributes\n",
    "for i in range(N_nodes):\n",
    "    G.node[i]['X'] = random.random()*2-1\n",
    "    G.node[i]['Z'] = random.random()*2-1\n",
    "    G.node[i]['coeff_X'] = 0.5\n",
    "    G.node[i]['coeff_Z'] = 0.2\n",
    "    G.node[i]['coeff_previous_happiness'] = 0.1\n",
    "    G.node[i]['coeff_influence'] = 0.7\n",
    "    G.node[i]['happiness'] = G.node[i]['X'] * G.node[i]['coeff_X'] + G.node[i]['Z'] * G.node[i]['coeff_Z']\n",
    "    G.node[i]['previous_happiness'] = []\n",
    "    G.node[i]['happiness_updating'] = G.node[i]['X'] * G.node[i]['coeff_X'] + G.node[i]['Z'] * G.node[i]['coeff_Z']+ G.node[i]['coeff_previous_happiness']* G.node[i]['happiness']"
   ]
  },
  {
   "cell_type": "code",
   "execution_count": null,
   "metadata": {
    "collapsed": false
   },
   "outputs": [],
   "source": [
    "#Creating similarity matrices\n",
    "similarity_matrix = [[0 for i in range(N_nodes)] for j in range(N_nodes)]\n",
    "observable_matrix = [[0 for i in range(N_nodes)] for j in range(N_nodes)]\n",
    "similarity_coefficient = 3\n",
    "for i in range(N_nodes):\n",
    "    for j in range(i):\n",
    "        similarity_matrix[i][j] = -similarity_coefficient*math.sqrt((G.node[i]['X'] - G.node[j]['X'])**2 + (G.node[i]['Z'] - G.node[j]['Z'])**2)\n",
    "        observable_matrix[i][j] = math.sqrt((G.node[i]['X'] - G.node[j]['X'])**2) \n",
    "        similarity_matrix[i][j] = 1.0 / (1.0 + math.exp(-similarity_matrix[i][j]))\n",
    "        similarity_matrix[j][i] = similarity_matrix[i][j]\n",
    "        observable_matrix[j][i] = observable_matrix[i][j]\n",
    "        \n"
   ]
  },
  {
   "cell_type": "code",
   "execution_count": null,
   "metadata": {
    "collapsed": false
   },
   "outputs": [],
   "source": [
    "#Creating set of potential friends for each node\n",
    "def create_list_potential_friends(Graph):\n",
    "    list_potential_friends = [[] for i in range(N_nodes)]\n",
    "    for i in range(N_nodes):\n",
    "        for j in range(N_nodes):\n",
    "            if i != j and (i,j) not in Graph.edges():\n",
    "                if random.random() < similarity_matrix[i][j]:\n",
    "                    list_potential_friends[i].append(j)\n",
    "    return list_potential_friends\n",
    "\n",
    "global list_potential_friends\n",
    "list_potential_friends = create_list_potential_friends(G)"
   ]
  },
  {
   "cell_type": "code",
   "execution_count": null,
   "metadata": {
    "collapsed": true
   },
   "outputs": [],
   "source": [
    "#Function to add to the node \"node\" a random friend from his list of friends (and to remove him from the list)\n",
    "def add_one_friend(node, Graph, idx_step):\n",
    "    if len(list_potential_friends[node])>0:\n",
    "        new_friend = random.choice(list_potential_friends[node])\n",
    "        Graph.add_edge(node, new_friend, step_creation = idx_step)"
   ]
  },
  {
   "cell_type": "code",
   "execution_count": null,
   "metadata": {
    "collapsed": true
   },
   "outputs": [],
   "source": [
    "#This step is made to add a friend for each node of the Graph\n",
    "def init_step(Graph, idx_step):\n",
    "    for node in range(N_nodes):\n",
    "        add_one_friend(node, Graph, idx_step)\n",
    "    update_happiness(Graph)"
   ]
  },
  {
   "cell_type": "code",
   "execution_count": null,
   "metadata": {
    "collapsed": true
   },
   "outputs": [],
   "source": [
    "#Update happiness \n",
    "def update_happiness(Graph):\n",
    "    for (a,b) in Graph.edges_iter():\n",
    "        Graph.node[a]['happiness_updating'] +=  G.node[a]['coeff_influence'] *Graph.node[b]['happiness']/len(Graph.neighbors(a))\n",
    "    for i in range(N_nodes):\n",
    "        Graph.node[i]['previous_happiness'].append(G.node[i]['happiness'])\n",
    "        Graph.node[i]['happiness'] = G.node[i]['happiness_updating']\n",
    "        Graph.node[i]['happiness_updating'] = G.node[i]['coeff_previous_happiness']*G.node[i]['happiness'] + G.node[i]['X'] * G.node[i]['coeff_X'] + G.node[i]['Z'] * G.node[i]['coeff_Z']"
   ]
  },
  {
   "cell_type": "code",
   "execution_count": null,
   "metadata": {
    "collapsed": false
   },
   "outputs": [],
   "source": [
    "def run_step(Graph, idx_step):\n",
    "    global list_potential_friends\n",
    "    for node in range(N_nodes):\n",
    "        if random.random() < rate_updated_nodes_per_run:\n",
    "            add_one_friend(node, Graph, idx_step)\n",
    "    update_happiness(Graph)\n",
    "    list_potential_friends = create_list_potential_friends(Graph)"
   ]
  },
  {
   "cell_type": "code",
   "execution_count": null,
   "metadata": {
    "collapsed": false
   },
   "outputs": [],
   "source": [
    "print list_potential_friends"
   ]
  },
  {
   "cell_type": "code",
   "execution_count": null,
   "metadata": {
    "collapsed": true
   },
   "outputs": [],
   "source": [
    "#NO fixed point algorithm (convergence not guaranteed), rather use the outputs at the previous time.\n",
    "#Think about best convergence, not go through the nodes in the same way at each step"
   ]
  },
  {
   "cell_type": "code",
   "execution_count": null,
   "metadata": {
    "collapsed": false
   },
   "outputs": [],
   "source": [
    "#Main run for the graph\n",
    "nb_steps=1\n",
    "init_step(G, 0)\n",
    "for i in range(nb_steps):\n",
    "    print i\n",
    "    run_step(G, i+1)"
   ]
  },
  {
   "cell_type": "code",
   "execution_count": null,
   "metadata": {
    "collapsed": false
   },
   "outputs": [],
   "source": [
    "#Plotting the last graph obtained\n",
    "nx.draw(G)\n",
    "plt.show()"
   ]
  },
  {
   "cell_type": "code",
   "execution_count": null,
   "metadata": {
    "collapsed": false,
    "scrolled": true
   },
   "outputs": [],
   "source": [
    "def create_propensity_table(Graph):\n",
    "    edges = []\n",
    "    treatment = []\n",
    "    response = []\n",
    "    X1 = []\n",
    "    X2 = []\n",
    "    for i in range(N_nodes):\n",
    "        for j in range(i+1,N_nodes):\n",
    "            if Graph.node[j]['previous_happiness'][0]> Graph.node[i]['previous_happiness'][0]:\n",
    "                u,v = i,j\n",
    "            else:\n",
    "                u,v = j,i\n",
    "                \n",
    "            if (u,v) in Graph.edges():\n",
    "                treatment.append(1)\n",
    "                step_creation = Graph[u][v]['step_creation']\n",
    "                edges.append((u,v))\n",
    "                response.append(Graph.node[u]['happiness'] - Graph.node[u]['previous_happiness'][0])\n",
    "                X1.append(Graph.node[u]['X'])\n",
    "                X2.append(Graph.node[v]['X'])\n",
    "            elif len(Graph.neighbors(u))==1 :\n",
    "                edges.append((u,v))\n",
    "                treatment.append(0)\n",
    "                response.append(Graph.node[u]['happiness'] - Graph.node[u]['previous_happiness'][0])\n",
    "                X1.append(Graph.node[u]['X'])\n",
    "                X2.append(Graph.node[v]['X'])\n",
    "                \n",
    "            \n",
    "                \n",
    "    return pd.DataFrame({'Edges':edges,\n",
    "                    'Treatment': treatment,\n",
    "                    'Response': response,\n",
    "                    'X1': X1,\n",
    "                    'X2': X2})"
   ]
  },
  {
   "cell_type": "code",
   "execution_count": null,
   "metadata": {
    "collapsed": false
   },
   "outputs": [],
   "source": [
    "data = create_propensity_table(G)\n",
    "data['X3'] = abs(data['X2']-data['X1'])\n"
   ]
  },
  {
   "cell_type": "code",
   "execution_count": null,
   "metadata": {
    "collapsed": false
   },
   "outputs": [],
   "source": [
    "propensity = LogisticRegression()\n",
    "propensity = propensity.fit(data[['X1','X2','X3']], data.Treatment)\n",
    "pscore = propensity.predict_proba(data[['X1','X2','X3']])[:,1] # The predicted propensities by the model\n",
    "data['Propensity'] = pscore"
   ]
  },
  {
   "cell_type": "code",
   "execution_count": null,
   "metadata": {
    "collapsed": true
   },
   "outputs": [],
   "source": [
    "def Match(groups, propensity, caliper = 0.05):\n",
    "    ''' \n",
    "    Inputs:\n",
    "    groups = Treatment assignments.  Must be 2 groups\n",
    "    propensity = Propensity scores for each observation. Propensity and groups should be in the same order (matching indices)\n",
    "    caliper = Maximum difference in matched propensity scores. For now, this is a caliper on the raw\n",
    "            propensity; Austin reccommends using a caliper on the logit propensity.\n",
    "    \n",
    "    Output:\n",
    "    A series containing the individuals in the control group matched to the treatment group.\n",
    "    Note that with caliper matching, not every treated individual may have a match.\n",
    "    '''\n",
    "\n",
    "    # Check inputs\n",
    "    if any(propensity <=0) or any(propensity >=1):\n",
    "        raise ValueError('Propensity scores must be between 0 and 1')\n",
    "    elif not(0<caliper<1):\n",
    "        raise ValueError('Caliper must be between 0 and 1')\n",
    "    elif len(groups)!= len(propensity):\n",
    "        raise ValueError('groups and propensity scores must be same dimension')\n",
    "    elif len(groups.unique()) != 2:\n",
    "        raise ValueError('wrong number of groups')\n",
    "        \n",
    "        \n",
    "    # Code groups as 0 and 1\n",
    "    groups = groups == groups.unique()[0]\n",
    "    N = len(groups)\n",
    "    N1 = groups.sum(); N2 = N-N1\n",
    "    g1, g2 = propensity[groups == 1].reset_index(drop=True), (propensity[groups == 0]).reset_index(drop=True)\n",
    "    # Check if treatment groups got flipped - treatment (coded 1) should be the smaller\n",
    "    if N1 > N2:\n",
    "        N1, N2, g1, g2 = N2, N1, g2, g1 \n",
    "        \n",
    "        \n",
    "    # Randomly permute the smaller group to get order for matching\n",
    "    morder = np.random.permutation(N1)\n",
    "    matches = pd.Series(np.empty(N1))\n",
    "    matches[:] = np.NAN\n",
    "    \n",
    "    for m in morder:\n",
    "        dist = abs(g1[m] - g2)\n",
    "        if dist.min() <= caliper:\n",
    "            matches[m] = int(dist.argmin())\n",
    "            g2 = g2.drop(matches[m])\n",
    "    return (matches)\n"
   ]
  },
  {
   "cell_type": "code",
   "execution_count": null,
   "metadata": {
    "collapsed": false
   },
   "outputs": [],
   "source": [
    "# stuff = Match(data.Treatment, data.Propensity)\n",
    "# stuff\n"
   ]
  },
  {
   "cell_type": "code",
   "execution_count": null,
   "metadata": {
    "collapsed": false
   },
   "outputs": [],
   "source": [
    "# g1, g2 = data.Propensity[data.Treatment==1].reset_index(drop=True), data.Propensity[data.Treatment==0].reset_index(drop=True)\n",
    "# zip(g1, g2[stuff])"
   ]
  },
  {
   "cell_type": "code",
   "execution_count": null,
   "metadata": {
    "collapsed": false
   },
   "outputs": [],
   "source": [
    "r1 = data[data.Treatment==1].reset_index(drop=True)\n",
    "r2 = data[data.Treatment==0].reset_index(drop=True)\n",
    "st=[int(x) for x in stuff if not math.isnan(g2[stuff][x])]\n",
    "data2 = pd.concat([r1,r2.iloc[stuff]]).reset_index(drop=True)\n",
    "\n"
   ]
  },
  {
   "cell_type": "code",
   "execution_count": null,
   "metadata": {
    "collapsed": false
   },
   "outputs": [],
   "source": [
    "result = sm.ols(formula=\"Response ~ Treatment + X1\", data=data2).fit()"
   ]
  },
  {
   "cell_type": "code",
   "execution_count": null,
   "metadata": {
    "collapsed": false
   },
   "outputs": [],
   "source": [
    "result.params"
   ]
  },
  {
   "cell_type": "code",
   "execution_count": null,
   "metadata": {
    "collapsed": true
   },
   "outputs": [],
   "source": []
  },
  {
   "cell_type": "code",
   "execution_count": null,
   "metadata": {
    "collapsed": true
   },
   "outputs": [],
   "source": []
  }
 ],
 "metadata": {
  "kernelspec": {
   "display_name": "Python 2",
   "language": "python",
   "name": "python2"
  },
  "language_info": {
   "codemirror_mode": {
    "name": "ipython",
    "version": 2
   },
   "file_extension": ".py",
   "mimetype": "text/x-python",
   "name": "python",
   "nbconvert_exporter": "python",
   "pygments_lexer": "ipython2",
   "version": "2.7.10"
  }
 },
 "nbformat": 4,
 "nbformat_minor": 0
}
